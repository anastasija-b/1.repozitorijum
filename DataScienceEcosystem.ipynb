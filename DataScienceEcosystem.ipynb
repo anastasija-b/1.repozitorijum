{
 "cells": [
  {
   "cell_type": "markdown",
   "id": "540af4dc-f5a6-4353-ae85-a331bf432c2e",
   "metadata": {},
   "source": [
    "# Data Science Tools and Ecosystem"
   ]
  },
  {
   "cell_type": "markdown",
   "id": "bd5a3daf-4550-4031-a823-a13cd730018c",
   "metadata": {},
   "source": [
    "In this notebook, Data Science Tools and Ecosystem are summarized."
   ]
  },
  {
   "cell_type": "markdown",
   "id": "8dfed00c-936a-450c-bdfd-354f856cdb43",
   "metadata": {},
   "source": [
    "**Objectives:**\n",
    "- tools for data science\n",
    "- languages for data science\n",
    "- jupyter nootebook"
   ]
  },
  {
   "cell_type": "markdown",
   "id": "78ab19cb-75f9-43e4-aa00-ca125ec9bbf6",
   "metadata": {},
   "source": [
    "Some of the popular languages that Data Scientists use are:\n",
    "1. Python\n",
    "2. R\n",
    "3. SQL"
   ]
  },
  {
   "cell_type": "markdown",
   "id": "463f553d-ee61-4a21-b20c-33d6dd5b66cb",
   "metadata": {},
   "source": [
    "Some of the commonly used libraries used by Data Scientists include:\n",
    "- numpy\n",
    "- matplotlib\n",
    "- seaborn\n",
    "- pandas\n"
   ]
  },
  {
   "cell_type": "markdown",
   "id": "bc86ed0d-23f1-420f-9e0b-d5efbd06f6fc",
   "metadata": {},
   "source": [
    "| Data Science Tools         |\n",
    "|---------------------------|\n",
    "| Jupyter Notebook          |\n",
    "| RStudio                   |\n",
    "| VS Code                   |\n"
   ]
  },
  {
   "cell_type": "markdown",
   "id": "a3690005-4ee7-41ab-be9f-60cd19cbabed",
   "metadata": {},
   "source": [
    "### Below are a few examples of evaluating arithmetic expressions in Python"
   ]
  },
  {
   "cell_type": "code",
   "execution_count": 3,
   "id": "7c7daf1d-45e6-4fd0-a4c0-9b8378ab5948",
   "metadata": {},
   "outputs": [
    {
     "data": {
      "text/plain": [
       "17"
      ]
     },
     "execution_count": 3,
     "metadata": {},
     "output_type": "execute_result"
    }
   ],
   "source": [
    "# This a simple arithmetic expression to mutiply then add integers\n",
    "(3*4)+5"
   ]
  },
  {
   "cell_type": "code",
   "execution_count": 4,
   "id": "3941f359-91d8-4410-a2b4-253b6716c97d",
   "metadata": {},
   "outputs": [
    {
     "data": {
      "text/plain": [
       "3.3333333333333335"
      ]
     },
     "execution_count": 4,
     "metadata": {},
     "output_type": "execute_result"
    }
   ],
   "source": [
    "#This will convert 200 minutes to hours by diving by 60\n",
    "200/60"
   ]
  },
  {
   "cell_type": "markdown",
   "id": "2178e990-81f4-496a-aec3-816d7778d1e2",
   "metadata": {},
   "source": [
    "## Author\n",
    "Anastasija Bubanja"
   ]
  },
  {
   "cell_type": "code",
   "execution_count": 5,
   "id": "16b64c30-86f9-4612-aad5-e6db9c39cac7",
   "metadata": {},
   "outputs": [
    {
     "data": {
      "text/plain": [
       "'C:\\\\Users\\\\pc'"
      ]
     },
     "execution_count": 5,
     "metadata": {},
     "output_type": "execute_result"
    }
   ],
   "source": [
    "import os\n",
    "os.getcwd()\n",
    "\n"
   ]
  },
  {
   "cell_type": "code",
   "execution_count": null,
   "id": "fda14439-1e84-439d-ab5e-80cdef9234c9",
   "metadata": {},
   "outputs": [],
   "source": []
  }
 ],
 "metadata": {
  "kernelspec": {
   "display_name": "Python [conda env:base] *",
   "language": "python",
   "name": "conda-base-py"
  },
  "language_info": {
   "codemirror_mode": {
    "name": "ipython",
    "version": 3
   },
   "file_extension": ".py",
   "mimetype": "text/x-python",
   "name": "python",
   "nbconvert_exporter": "python",
   "pygments_lexer": "ipython3",
   "version": "3.13.5"
  }
 },
 "nbformat": 4,
 "nbformat_minor": 5
}
